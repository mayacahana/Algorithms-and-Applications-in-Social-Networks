{
 "cells": [
  {
   "cell_type": "markdown",
   "metadata": {},
   "source": [
    "# Question 1"
   ]
  },
  {
   "cell_type": "markdown",
   "metadata": {},
   "source": [
    "## a"
   ]
  },
  {
   "cell_type": "code",
   "execution_count": null,
   "metadata": {},
   "outputs": [],
   "source": [
    "# a. Implement Newman-Girvan algorithm for non-overlapping communities. The\n",
    "# algorithm should receive a network and parameter k (number of communities)\n",
    "# are return the communities.\n",
    "import networkx as nx\n",
    "\n",
    "\n",
    "def remove_edge(G):\n",
    "    num_of_components = nx.number_connected_components(G)\n",
    "    while (nx.number_connected_components(G) < num_of_components):\n",
    "        betweenness = nx.edge_betweenness_centrality(G, weight='weight')\n",
    "        max_betweeness = max(betweenness.values)\n",
    "        for edge in list(G.edges()):\n",
    "            if (betweenness[edge] == max_betweeness):\n",
    "                G.remove_edge(*edge)\n",
    "        \n",
    "def newman_girvan_algorithm(network, k):\n",
    "    # number of nodes is 1\n",
    "    if (network.order() == 1):\n",
    "        return list(network.nodes())\n",
    "    # until no edges left - \n",
    "    result = []\n",
    "    \n",
    "    while (len(G.edges()) > 0):\n",
    "        remove_edge(G)\n",
    "        result.append(tuple(list(g) for g in nx.connected_component_subgraphs(g)))\n",
    "    return result\n",
    "        \n",
    "    "
   ]
  }
 ],
 "metadata": {
  "kernelspec": {
   "display_name": "Python 2",
   "language": "python",
   "name": "python2"
  },
  "language_info": {
   "codemirror_mode": {
    "name": "ipython",
    "version": 2
   },
   "file_extension": ".py",
   "mimetype": "text/x-python",
   "name": "python",
   "nbconvert_exporter": "python",
   "pygments_lexer": "ipython2",
   "version": "2.7.14"
  }
 },
 "nbformat": 4,
 "nbformat_minor": 2
}
