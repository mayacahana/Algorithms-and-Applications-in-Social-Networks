{
 "cells": [
  {
   "cell_type": "markdown",
   "metadata": {},
   "source": [
    "## Question 1. a"
   ]
  },
  {
   "cell_type": "code",
   "execution_count": null,
   "metadata": {},
   "outputs": [],
   "source": [
    "import networkx as nx\n",
    "import random\n",
    "import matplotlib.pyplot as plt\n",
    "\n",
    "def erdos_renyi_model(n,p):\n",
    "    graph = nx.Graph()\n",
    "    nodes = list(i for i in range(0,n))\n",
    "    for node in nodes:\n",
    "        graph.add_node(node)\n",
    "        for n in nodes:\n",
    "            rand = random.uniform(0, 1)\n",
    "            if (rand <= p) and (node > n):\n",
    "                graph.add_edge(node, n)\n",
    "    nx.draw(graph, with_labels=True, node_size=1000, node_color=\"skyblue\")\n",
    "    plt.show()\n",
    "    return graph\n",
    "erdnos_renyi_model(10,0.5)          "
   ]
  },
  {
   "cell_type": "markdown",
   "metadata": {},
   "source": [
    "## Question 1. b"
   ]
  },
  {
   "cell_type": "code",
   "execution_count": null,
   "metadata": {},
   "outputs": [],
   "source": [
    "def small_world_model(n,k,p):\n",
    "    G = nx.Graph()\n",
    "    nodes = list(i for i in range(0,n))\n",
    "    for node in nodes:\n",
    "        G.add_node(node)\n",
    "        for i in range(0, int(k/2+1)):\n",
    "            G.add_edge(node, (node+i)%n)\n",
    "            G.add_edge(node, (node-i)%n)\n",
    "    edges = G.edges()\n",
    "    for edge in edges:\n",
    "        if (edge[0] < edge[1]):\n",
    "            rand = random.uniform(0, 1)\n",
    "            if rand <= p:\n",
    "                G.remove_edge(edge[0], edge[1])\n",
    "                new_node = random.randint(0,n)\n",
    "                G.add_edge(edge[0], new_node)\n",
    "    plt.figure(3,figsize=(10,10))\n",
    "    pos = nx.circular_layout(G)\n",
    "    nx.draw(G, pos, with_labels=True, node_size=1000, node_color=\"skyblue\", font_size=15)\n",
    "    plt.show()\n",
    "    return G\n",
    "\n",
    "small_world_model(40,2,0.6)\n",
    "    "
   ]
  },
  {
   "cell_type": "markdown",
   "metadata": {},
   "source": [
    "## Question 1. c"
   ]
  },
  {
   "cell_type": "code",
   "execution_count": null,
   "metadata": {},
   "outputs": [],
   "source": [
    "def node_clustering_coefficient(G,node):\n",
    "    neighbors = G.neighbors(node)\n",
    "    neighbors = list(neighbors)\n",
    "    edges_between_neighbors = 0\n",
    "    clustering_coefficient = 0\n",
    "    # count edges between neighbors\n",
    "    edges = G.edges()\n",
    "    for edge in edges:\n",
    "        if (edge[0] in neighbors and edge[1] in neighbors):\n",
    "            edges_between_neighbors += 1\n",
    "    degree = g.degree(node)\n",
    "    if (degree <= 1):\n",
    "        return clustering_coefficient\n",
    "    # From lecture: Ci = 2 * (# of edges between the neighbors)/ ki *(ki – 1)\n",
    "    clustering_coefficient = (2 * (float(edges_between_neighbors)))/(degree*(degree-1))\n",
    "    return clustering_coefficient\n",
    "            \n",
    "    \n",
    "def graph_clustering_coefficient(G):\n",
    "    sum_clustering_coefficient = 0\n",
    "    for node in G.nodes():\n",
    "        sum_clustering_coefficient += node_clustering_coefficient(G,node)\n",
    "    return sum_clustering_coefficient/G.number_of_nodes()\n",
    "\n",
    "def calculate_diameter(G):\n",
    "    diameter = 0\n",
    "    if not nx.is_connected(G):\n",
    "        sub_graphs = [G.subgraph(x) for x in nx.connected_components(G)]\n",
    "        for component in sub_graphs:\n",
    "            diameter = max(nx.algorithms.distance_measures.diameter(component), diameter)\n",
    "    else:\n",
    "        diameter = nx.algorithms.distance_measures.diameter(G)\n",
    "    return diameter\n",
    "\n",
    "erdos_renyi_g = erdos_renyi_model(1000, 0.2)\n",
    "small_world_g = small_world_model(1000, 8, 0.2)\n",
    "print \"Erdos Renyi graph diameter is: \", calculate_diameter(erdos_renyi_g)\n",
    "print \"Erdos Renyi graph clustering coefficient is: \", graph_clustering_coefficient(erdos_renyi_g)\n",
    "print \"Small world graph diameter is: \", calculate_diameter(small_world_g)\n",
    "print \"Small world graph clustering coefficient is:\", graph_clustering_coefficient(small_world_g)\n",
    "nx.draw(erdos_graph)\n",
    "nx.draw(small_world_graph)"
   ]
  },
  {
   "cell_type": "markdown",
   "metadata": {},
   "source": [
    "## Question 2 . a"
   ]
  },
  {
   "cell_type": "code",
   "execution_count": null,
   "metadata": {},
   "outputs": [],
   "source": [
    "import networkx as nx"
   ]
  },
  {
   "cell_type": "code",
   "execution_count": null,
   "metadata": {
    "scrolled": true
   },
   "outputs": [],
   "source": [
    "def degree_centrality(G):\n",
    "    return dict(G.degree(list(G.nodes())))\n",
    "    \n",
    "\n",
    "\n",
    "def betweenness_centrality(G):\n",
    "    result = {}\n",
    "    for n in G.nodes():\n",
    "        result[n] = 0\n",
    "    for source in G.nodes():\n",
    "        for target in G.nodes():\n",
    "            if (source!=target):\n",
    "                try:\n",
    "                    for p in nx.all_shortest_paths(G,source=source,target=target):\n",
    "                        for node in p[1:len(p)-1]:\n",
    "                            result[node] += 1     \n",
    "                except:\n",
    "                    continue\n",
    "    return result\n",
    "                \n",
    "    \n",
    "def closeness_centrality(G):\n",
    "    result = {}\n",
    "    sumOfDistance = 0\n",
    "    for n in G.nodes:\n",
    "        result[n] = 0\n",
    "    for source in G.nodes():\n",
    "        sumOfDistance = 0 \n",
    "        for target in G.nodes():\n",
    "            if (target != source):\n",
    "                try:\n",
    "                    sumOfDistance += len(nx.shortest_path(G, source, target)) - 1\n",
    "                except:\n",
    "                    continue\n",
    "            if (sumOfDistance > 0):\n",
    "                result[source] = 1/sumOfDistance\n",
    "    return result"
   ]
  },
  {
   "cell_type": "markdown",
   "metadata": {},
   "source": [
    "## QUESTION 2 . b"
   ]
  },
  {
   "cell_type": "code",
   "execution_count": null,
   "metadata": {},
   "outputs": [],
   "source": [
    "G = nx.florentine_families_graph()\n",
    "nx.draw(G, with_labels = True)\n",
    "sorted_degree = sorted(degree_centrality(G).items(), key=lambda x: x[1])\n",
    "top5_degree = sorted_degree[-5:]\n",
    "print(top5_degree)\n",
    "\n",
    "sorted_betweenness = sorted(betweenness_centrality(G).items(), key=lambda x: x[1])\n",
    "top5_betweenness = sorted_betweenness[-5:]\n",
    "print(top5_betweenness)\n",
    "\n",
    "sorted_closeness = sorted(closeness_centrality(G).items(), key=lambda x: x[1])\n",
    "top5_closeness = sorted_closeness[-5:]\n",
    "print(top5_closeness)\n",
    "\n"
   ]
  },
  {
   "cell_type": "markdown",
   "metadata": {},
   "source": [
    "## Question 2. c"
   ]
  },
  {
   "cell_type": "code",
   "execution_count": null,
   "metadata": {},
   "outputs": [],
   "source": [
    "G = nx.florentine_families_graph()\n",
    "d = degree_centrality(G)\n",
    "nx.draw(G, with_labels = True, nodelist = d.keys(), node_size = [v * 500 for v in d.values()])\n",
    "\n"
   ]
  },
  {
   "cell_type": "code",
   "execution_count": null,
   "metadata": {},
   "outputs": [],
   "source": [
    "G = nx.florentine_families_graph()\n",
    "d = betweenness_centrality(G)\n",
    "nx.draw(G, with_labels = True, nodelist = d.keys(), node_size = [v * 10 for v in d.values()] )\n"
   ]
  },
  {
   "cell_type": "code",
   "execution_count": null,
   "metadata": {},
   "outputs": [],
   "source": [
    "G = nx.florentine_families_graph()\n",
    "d = closeness_centrality(G)\n",
    "print(d)\n",
    "nx.draw(G, with_labels = True, nodelist = d.keys(), node_size = [v * 50000 for v in d.values()] )\n"
   ]
  },
  {
   "cell_type": "markdown",
   "metadata": {},
   "source": [
    "# Question 3. b. i."
   ]
  },
  {
   "cell_type": "code",
   "execution_count": null,
   "metadata": {},
   "outputs": [],
   "source": [
    "import random\n",
    "import matplotlib.pyplot as plt\n"
   ]
  },
  {
   "cell_type": "code",
   "execution_count": null,
   "metadata": {},
   "outputs": [],
   "source": [
    "def createErdosGraph(percentage):\n",
    "    n = 30\n",
    "    p = 0.5\n",
    "    Graph = nx.erdos_renyi_graph(n, p)\n",
    "    G = nx.empty_graph(n)\n",
    "    for edge in Graph.edges():\n",
    "        x = random.random()\n",
    "        if (x<=percentage):\n",
    "            G.add_edge(*edge, label = \"+\")\n",
    "        else:\n",
    "            G.add_edge(*edge, label = \"-\")\n",
    "    return G\n",
    "\n",
    "def displayGraph(G):\n",
    "    pos = nx.circular_layout(G)  # positions for all nodes\n",
    "    elarge=[(u,v) for (u,v,d) in G.edges(data=True) if d['label'] =='+'] # solid edge\n",
    "    esmall=[(u,v) for (u,v,d) in G.edges(data=True) if d['label'] == '-'] # dashed edge\n",
    "\n",
    "    # Draw nodes\n",
    "    nx.draw_networkx_nodes(G,pos,node_size=100, node_color='orange')\n",
    "\n",
    "    # Draw edges\n",
    "    nx.draw_networkx_edges(G,pos,edgelist=elarge, width=2, edge_color='g')\n",
    "    nx.draw_networkx_edges(G,pos,edgelist=esmall, width=3,\n",
    "                           alpha=0.5,edge_color='b', arrows=False,style='dashed')\n",
    "\n",
    "    # Draw node labels\n",
    "    nx.draw_networkx_labels(G,pos,font_size=10,font_family='sans-serif')\n",
    "\n",
    "    # Draw edge labels\n",
    "    edge_labels =dict([((u, v), d['label']) for u, v, d in G.edges(data=True)])\n",
    "    nx.draw_networkx_edge_labels(G, pos, edge_labels=edge_labels)\n",
    "\n",
    "    plt.axis('off')\n",
    "    plt.show() # display "
   ]
  },
  {
   "cell_type": "code",
   "execution_count": null,
   "metadata": {},
   "outputs": [],
   "source": [
    "displayGraph(createErdosGraph(0.9))"
   ]
  },
  {
   "cell_type": "code",
   "execution_count": null,
   "metadata": {},
   "outputs": [],
   "source": [
    "displayGraph(createErdosGraph(0.5))"
   ]
  },
  {
   "cell_type": "code",
   "execution_count": null,
   "metadata": {},
   "outputs": [],
   "source": [
    "def checkBalance(G):\n",
    "    displayGraph(G)\n",
    "    graphNoMinus = nx.empty_graph(len(G))\n",
    "    for edge in G.edges(data=True):\n",
    "        if edge[2]['label'] == '+':\n",
    "            graphNoMinus.add_edge(edge[0], edge[1], label = \"+\")\n",
    "    connectedCom = [x for x in sorted(nx.connected_components(graphNoMinus), key=len, reverse=True)]\n",
    "    superGraph = nx.empty_graph(len(connectedCom))\n",
    "    superNode1 = 0\n",
    "    superNode2 = 0\n",
    "    for edge in G.edges(data=True):\n",
    "        if edge[2]['label'] == '-':\n",
    "            for i in range (0, len(connectedCom)):\n",
    "                if edge[0] in connectedCom[i]:\n",
    "                    superNode1 = i\n",
    "                    if edge[1] in connectedCom[i]:\n",
    "                        print(\"bad edge: \", edge)\n",
    "                        return False\n",
    "                if edge[1] in connectedCom[i]:\n",
    "                    superNode2 = i\n",
    "            superGraph.add_edge(superNode1, superNode2, label = \"-\")    \n",
    "    for cycle in nx.cycle_basis(superGraph):\n",
    "        if (len(cycle)%2 == 1):\n",
    "            displayGraph(superGraph)\n",
    "            print(\"there is an odd length cycle in the grap. the cycle: \", cycle)\n",
    "            return False\n",
    "    print(\"SuperGraph: \")\n",
    "    displayGraph(superGraph)\n",
    "    return True\n",
    "\n",
    "\n"
   ]
  },
  {
   "cell_type": "code",
   "execution_count": null,
   "metadata": {},
   "outputs": [],
   "source": [
    "G = createErdosGraph(0.9)\n",
    "checkBalance(G)\n"
   ]
  },
  {
   "cell_type": "code",
   "execution_count": null,
   "metadata": {},
   "outputs": [],
   "source": [
    "G = createErdosGraph(0.5)\n",
    "checkBalance(G)\n"
   ]
  },
  {
   "cell_type": "code",
   "execution_count": null,
   "metadata": {},
   "outputs": [],
   "source": []
  }
 ],
 "metadata": {
  "kernelspec": {
   "display_name": "Python 2",
   "language": "python",
   "name": "python2"
  },
  "language_info": {
   "codemirror_mode": {
    "name": "ipython",
    "version": 2
   },
   "file_extension": ".py",
   "mimetype": "text/x-python",
   "name": "python",
   "nbconvert_exporter": "python",
   "pygments_lexer": "ipython2",
   "version": "2.7.14"
  }
 },
 "nbformat": 4,
 "nbformat_minor": 2
}
